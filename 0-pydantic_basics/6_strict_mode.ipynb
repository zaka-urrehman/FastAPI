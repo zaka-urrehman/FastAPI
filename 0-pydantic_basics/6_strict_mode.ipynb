{
 "cells": [
  {
   "cell_type": "markdown",
   "metadata": {},
   "source": [
    "### Strict Mode\n",
    "strict mode is a feature of pydantic that changes the default behavior of pydantic of changing or parsing the data. By default pydantic will try to typecast or convert the data to the required format. But when strict mode is enabled, pydantic will not convert or coerce that value\n",
    "\n"
   ]
  },
  {
   "cell_type": "code",
   "execution_count": 3,
   "metadata": {},
   "outputs": [
    {
     "name": "stdout",
     "output_type": "stream",
     "text": [
      "name='Alice' age=25\n",
      "1 validation error for Person\n",
      "age\n",
      "  Input should be a valid integer [type=int_type, input_value='30', input_type=str]\n",
      "    For further information visit https://errors.pydantic.dev/2.5/v/int_type\n",
      "1 validation error for Person\n",
      "age\n",
      "  Input should be a valid integer [type=int_type, input_value=28.5, input_type=float]\n",
      "    For further information visit https://errors.pydantic.dev/2.5/v/int_type\n"
     ]
    }
   ],
   "source": [
    "from pydantic import BaseModel, StrictInt, ValidationError\n",
    "\n",
    "class Person(BaseModel):\n",
    "    name: str\n",
    "    age: StrictInt # this field is strict, it only accepts int values\n",
    "\n",
    "# this will work fine, since age is an int\n",
    "p1 = Person(name=\"Alice\", age=25)\n",
    "print(p1)\n",
    "\n",
    "# this will raise a validation error, since age is a str\n",
    "try:\n",
    "    p2 = Person(name=\"Bob\", age=\"30\")\n",
    "except ValidationError as e:\n",
    "    print(e)\n",
    "\n",
    "# this will also raise a validation error, since age is a float\n",
    "try:\n",
    "    p3 = Person(name=\"Charlie\", age=28.5)\n",
    "except ValidationError as e:\n",
    "    print(e)\n"
   ]
  },
  {
   "cell_type": "markdown",
   "metadata": {},
   "source": [
    "### Extra fields \n",
    "By default, Pydantic allows extra fields, meaning that if you create an instance of a model with additional fields that are not part of the model, Pydantic will ignore them.\n",
    "But we can change it. Let's see how to do it"
   ]
  },
  {
   "cell_type": "code",
   "execution_count": 5,
   "metadata": {},
   "outputs": [
    {
     "name": "stdout",
     "output_type": "stream",
     "text": [
      "name='abc' age=20\n"
     ]
    }
   ],
   "source": [
    "class Person(BaseModel):\n",
    "    name: str\n",
    "    age: int \n",
    "\n",
    "# This allows addition of extra fileds\n",
    "person1 = Person(name=\"abc\", age=20, gender=\"male\")\n",
    "print(person1)"
   ]
  },
  {
   "cell_type": "code",
   "execution_count": 6,
   "metadata": {},
   "outputs": [
    {
     "ename": "ValidationError",
     "evalue": "1 validation error for Person\ngender\n  Extra inputs are not permitted [type=extra_forbidden, input_value='male', input_type=str]\n    For further information visit https://errors.pydantic.dev/2.5/v/extra_forbidden",
     "output_type": "error",
     "traceback": [
      "\u001b[1;31m---------------------------------------------------------------------------\u001b[0m",
      "\u001b[1;31mValidationError\u001b[0m                           Traceback (most recent call last)",
      "Cell \u001b[1;32mIn[6], line 9\u001b[0m\n\u001b[0;32m      5\u001b[0m     \u001b[38;5;28;01mclass\u001b[39;00m \u001b[38;5;21;01mConfig\u001b[39;00m:\n\u001b[0;32m      6\u001b[0m         extra \u001b[38;5;241m=\u001b[39m \u001b[38;5;124m\"\u001b[39m\u001b[38;5;124mforbid\u001b[39m\u001b[38;5;124m\"\u001b[39m\n\u001b[1;32m----> 9\u001b[0m person2 \u001b[38;5;241m=\u001b[39m \u001b[43mPerson\u001b[49m\u001b[43m(\u001b[49m\u001b[43mname\u001b[49m\u001b[38;5;241;43m=\u001b[39;49m\u001b[38;5;124;43m\"\u001b[39;49m\u001b[38;5;124;43mabc\u001b[39;49m\u001b[38;5;124;43m\"\u001b[39;49m\u001b[43m,\u001b[49m\u001b[43mage\u001b[49m\u001b[38;5;241;43m=\u001b[39;49m\u001b[38;5;241;43m20\u001b[39;49m\u001b[43m,\u001b[49m\u001b[43mgender\u001b[49m\u001b[38;5;241;43m=\u001b[39;49m\u001b[38;5;124;43m\"\u001b[39;49m\u001b[38;5;124;43mmale\u001b[39;49m\u001b[38;5;124;43m\"\u001b[39;49m\u001b[43m)\u001b[49m\n",
      "File \u001b[1;32mc:\\Users\\HBlinks\\anaconda3\\envs\\python12\\Lib\\site-packages\\pydantic\\main.py:164\u001b[0m, in \u001b[0;36mBaseModel.__init__\u001b[1;34m(__pydantic_self__, **data)\u001b[0m\n\u001b[0;32m    162\u001b[0m \u001b[38;5;66;03m# `__tracebackhide__` tells pytest and some other tools to omit this function from tracebacks\u001b[39;00m\n\u001b[0;32m    163\u001b[0m __tracebackhide__ \u001b[38;5;241m=\u001b[39m \u001b[38;5;28;01mTrue\u001b[39;00m\n\u001b[1;32m--> 164\u001b[0m \u001b[43m__pydantic_self__\u001b[49m\u001b[38;5;241;43m.\u001b[39;49m\u001b[43m__pydantic_validator__\u001b[49m\u001b[38;5;241;43m.\u001b[39;49m\u001b[43mvalidate_python\u001b[49m\u001b[43m(\u001b[49m\u001b[43mdata\u001b[49m\u001b[43m,\u001b[49m\u001b[43m \u001b[49m\u001b[43mself_instance\u001b[49m\u001b[38;5;241;43m=\u001b[39;49m\u001b[43m__pydantic_self__\u001b[49m\u001b[43m)\u001b[49m\n",
      "\u001b[1;31mValidationError\u001b[0m: 1 validation error for Person\ngender\n  Extra inputs are not permitted [type=extra_forbidden, input_value='male', input_type=str]\n    For further information visit https://errors.pydantic.dev/2.5/v/extra_forbidden"
     ]
    }
   ],
   "source": [
    "class Person(BaseModel):\n",
    "    name: str\n",
    "    age: int \n",
    "\n",
    "    class Config:\n",
    "        extra = \"forbid\"\n",
    "\n",
    "\n",
    "person2 = Person(name=\"abc\",age=20,gender=\"male\") # validation error: extra inputs are not allowed"
   ]
  }
 ],
 "metadata": {
  "kernelspec": {
   "display_name": "python12",
   "language": "python",
   "name": "python3"
  },
  "language_info": {
   "codemirror_mode": {
    "name": "ipython",
    "version": 3
   },
   "file_extension": ".py",
   "mimetype": "text/x-python",
   "name": "python",
   "nbconvert_exporter": "python",
   "pygments_lexer": "ipython3",
   "version": "3.12.0"
  }
 },
 "nbformat": 4,
 "nbformat_minor": 2
}
